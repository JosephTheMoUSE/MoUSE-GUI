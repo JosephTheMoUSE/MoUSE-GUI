{
 "cells": [
  {
   "cell_type": "code",
   "execution_count": 4,
   "id": "3b574cb4-b387-4cff-9f58-8999ece2adb1",
   "metadata": {},
   "outputs": [],
   "source": [
    "import sys\n",
    "import os\n",
    "# Dodaj folder projektu do sys.path\n",
    "project_path = os.path.abspath('..')  # Ścieżka do folderu projektu (katalog wyżej)\n",
    "if project_path not in sys.path:\n",
    "    sys.path.append(project_path)\n",
    "\n",
    "# Dodanie podfolderu src (jeśli folder modułów jest wewnątrz)\n",
    "src_path = os.path.abspath('./src')\n",
    "if src_path not in sys.path:\n",
    "    sys.path.append(src_path)"
   ]
  },
  {
   "cell_type": "code",
   "execution_count": 9,
   "id": "dbd54cf3-85f2-4c9d-843d-12df4ec860e1",
   "metadata": {},
   "outputs": [],
   "source": [
    "from mouseapp.context_manager import initialize_application"
   ]
  },
  {
   "cell_type": "code",
   "execution_count": 10,
   "id": "603e8ea0-d3ac-4b22-a090-f89487ff0368",
   "metadata": {},
   "outputs": [
    {
     "name": "stderr",
     "output_type": "stream",
     "text": [
      "WARNING:root:Project couldn't be loaded from /Users/wiktorwalczak/Library/Application Support/MoUSE/project_testDEB/project_data.pkl. Exception raised: [Errno 2] No such file or directory: '/Users/wiktorwalczak/Library/Application Support/MoUSE/project_testDEB/project_data.pkl'\n"
     ]
    },
    {
     "ename": "SystemExit",
     "evalue": "0",
     "output_type": "error",
     "traceback": [
      "An exception has occurred, use %tb to see the full traceback.\n",
      "\u001b[0;31mSystemExit\u001b[0m\u001b[0;31m:\u001b[0m 0\n"
     ]
    },
    {
     "name": "stderr",
     "output_type": "stream",
     "text": [
      "/Users/wiktorwalczak/Library/Caches/pypoetry/virtualenvs/mouse-gui-HC6BWUcF-py3.11/lib/python3.11/site-packages/IPython/core/interactiveshell.py:3585: UserWarning: To exit: use 'exit', 'quit', or Ctrl-D.\n",
      "  warn(\"To exit: use 'exit', 'quit', or Ctrl-D.\", stacklevel=1)\n"
     ]
    }
   ],
   "source": [
    "initialize_application()"
   ]
  },
  {
   "cell_type": "code",
   "execution_count": null,
   "id": "d227ba0e-c623-4b67-9df6-0a926f44811b",
   "metadata": {},
   "outputs": [],
   "source": []
  }
 ],
 "metadata": {
  "kernelspec": {
   "display_name": "MoUSE-GUI",
   "language": "python",
   "name": "mouse-gui-py3.11"
  },
  "language_info": {
   "codemirror_mode": {
    "name": "ipython",
    "version": 3
   },
   "file_extension": ".py",
   "mimetype": "text/x-python",
   "name": "python",
   "nbconvert_exporter": "python",
   "pygments_lexer": "ipython3",
   "version": "3.11.8"
  }
 },
 "nbformat": 4,
 "nbformat_minor": 5
}
